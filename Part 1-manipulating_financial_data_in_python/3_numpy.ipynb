{
 "cells": [
  {
   "cell_type": "code",
   "execution_count": 1,
   "metadata": {
    "collapsed": true
   },
   "outputs": [],
   "source": [
    "# numpy is a wrapper for numerical librarys\n",
    "# Works with \"ndarray's\""
   ]
  },
  {
   "cell_type": "code",
   "execution_count": 3,
   "metadata": {},
   "outputs": [
    {
     "name": "stdout",
     "output_type": "stream",
     "text": [
      "[2 3 4]\n"
     ]
    }
   ],
   "source": [
    "\"\"\"Creating NumPy arrays\"\"\"\n",
    "import numpy as np\n",
    "\n",
    "def test_run():\n",
    "    # List to 1D array\n",
    "    print np.array([2,3,4])\n",
    "    \n",
    "if __name__ == \"__main__\":\n",
    "    test_run()"
   ]
  },
  {
   "cell_type": "code",
   "execution_count": 4,
   "metadata": {},
   "outputs": [
    {
     "name": "stdout",
     "output_type": "stream",
     "text": [
      "[[2 3 4]\n",
      " [5 6 7]]\n"
     ]
    }
   ],
   "source": [
    "\"\"\"Creating NumPy arrays\"\"\"\n",
    "import numpy as np\n",
    "\n",
    "def test_run():\n",
    "    # List of tuples to 2D array\n",
    "    print np.array([(2,3,4), (5,6,7)])\n",
    "    \n",
    "if __name__ == \"__main__\":\n",
    "    test_run()"
   ]
  },
  {
   "cell_type": "code",
   "execution_count": 5,
   "metadata": {},
   "outputs": [
    {
     "name": "stdout",
     "output_type": "stream",
     "text": [
      "[  4.67999260e-310   6.92789875e-310   6.92789875e-310   6.51913678e+091\n",
      "   2.37151510e-322]\n",
      "[[  6.92790753e-310   4.67999259e-310   0.00000000e+000   1.27319747e-313]\n",
      " [  1.27319747e-313   1.27319747e-313   1.27319747e-313   1.27319747e-313]\n",
      " [  0.00000000e+000   1.90979621e-313   1.90979621e-313   1.90979621e-313]\n",
      " [  1.90979621e-313   1.90979621e-313   0.00000000e+000   5.92878775e-323]\n",
      " [  3.18299369e-313   0.00000000e+000   4.03179200e-313   9.88131292e-323]]\n"
     ]
    }
   ],
   "source": [
    "\"\"\"Creating NumPy arrays\"\"\"\n",
    "import numpy as np\n",
    "\n",
    "def test_run():\n",
    "    # Empty array\n",
    "    print np.empty(5)\n",
    "    print np.empty((5,4))\n",
    "    \n",
    "    \n",
    "if __name__ == \"__main__\":\n",
    "    test_run()"
   ]
  },
  {
   "cell_type": "code",
   "execution_count": null,
   "metadata": {
    "collapsed": true
   },
   "outputs": [],
   "source": []
  },
  {
   "cell_type": "code",
   "execution_count": 6,
   "metadata": {},
   "outputs": [
    {
     "name": "stdout",
     "output_type": "stream",
     "text": [
      "[[ 1.  1.  1.  1.]\n",
      " [ 1.  1.  1.  1.]\n",
      " [ 1.  1.  1.  1.]\n",
      " [ 1.  1.  1.  1.]\n",
      " [ 1.  1.  1.  1.]]\n"
     ]
    }
   ],
   "source": [
    "\"\"\"Creating NumPy arrays\"\"\"\n",
    "import numpy as np\n",
    "\n",
    "def test_run():\n",
    "    # array of ones *default is float\n",
    "    print np.ones((5,4))\n",
    "     \n",
    "    \n",
    "if __name__ == \"__main__\":\n",
    "    test_run()"
   ]
  },
  {
   "cell_type": "code",
   "execution_count": null,
   "metadata": {
    "collapsed": true
   },
   "outputs": [],
   "source": []
  },
  {
   "cell_type": "code",
   "execution_count": 7,
   "metadata": {},
   "outputs": [
    {
     "name": "stdout",
     "output_type": "stream",
     "text": [
      "[[1 1 1 1]\n",
      " [1 1 1 1]\n",
      " [1 1 1 1]\n",
      " [1 1 1 1]\n",
      " [1 1 1 1]]\n"
     ]
    }
   ],
   "source": [
    "\"\"\"Creating NumPy arrays\"\"\"\n",
    "import numpy as np\n",
    "\n",
    "def test_run():\n",
    "    # 'dtype' is the paramater and \n",
    "    print np.ones((5,4), dtype=np.int_)\n",
    "     \n",
    "    \n",
    "if __name__ == \"__main__\":\n",
    "    test_run()"
   ]
  },
  {
   "cell_type": "code",
   "execution_count": 8,
   "metadata": {},
   "outputs": [
    {
     "name": "stdout",
     "output_type": "stream",
     "text": [
      "[[ 0.43515911  0.10388048  0.77168119  0.44990323]\n",
      " [ 0.92154151  0.04857488  0.08351129  0.75019514]\n",
      " [ 0.88499981  0.15679885  0.36364522  0.02787718]\n",
      " [ 0.52365017  0.38372962  0.65359745  0.84249872]\n",
      " [ 0.60631174  0.5974379   0.65697972  0.69778499]]\n"
     ]
    }
   ],
   "source": [
    "\"\"\"Creating random numbers\"\"\"\n",
    "import numpy as np\n",
    "\n",
    "def test_run():\n",
    "    print np.random.rand(5,4)\n",
    "     \n",
    "    \n",
    "if __name__ == \"__main__\":\n",
    "    test_run()"
   ]
  },
  {
   "cell_type": "code",
   "execution_count": 9,
   "metadata": {},
   "outputs": [
    {
     "name": "stdout",
     "output_type": "stream",
     "text": [
      "[[-0.9079735   0.50628033 -0.6998063 ]\n",
      " [-0.57625447  1.18400394  1.51716474]]\n"
     ]
    }
   ],
   "source": [
    "\"\"\"Creating random numbers\"\"\"\n",
    "import numpy as np\n",
    "\n",
    "def test_run():\n",
    "    print np.random.normal(size=(2,3))  # standard normal mean=0\n",
    "     \n",
    "    \n",
    "if __name__ == \"__main__\":\n",
    "    test_run()"
   ]
  },
  {
   "cell_type": "code",
   "execution_count": 10,
   "metadata": {},
   "outputs": [
    {
     "name": "stdout",
     "output_type": "stream",
     "text": [
      "[[ 51.95231879  59.46547814  49.41607046]\n",
      " [ 45.10994091  51.35308986  43.33655258]]\n"
     ]
    }
   ],
   "source": [
    "\"\"\"Creating random numbers\"\"\"\n",
    "import numpy as np\n",
    "\n",
    "def test_run():\n",
    "    print np.random.normal(50, 10, size=(2,3))  #  mean=50 and s.d to 10\n",
    "     \n",
    "    \n",
    "if __name__ == \"__main__\":\n",
    "    test_run()"
   ]
  },
  {
   "cell_type": "code",
   "execution_count": 24,
   "metadata": {},
   "outputs": [
    {
     "name": "stdout",
     "output_type": "stream",
     "text": [
      "5\n",
      "4\n",
      "2\n",
      "20\n",
      "float64\n"
     ]
    }
   ],
   "source": [
    "\"\"\"Array attributes\"\"\"\n",
    "import numpy as np\n",
    "\n",
    "def test_run():\n",
    "    a = np.random.random((5,4))\n",
    "    print a.shape[0] # rows\n",
    "    print a.shape[1] # columsn\n",
    "    print len(a.shape) # array dimention\n",
    "    print a.size #number of attributes\n",
    "    print a.dtype\n",
    "    \n",
    "if __name__ == \"__main__\":\n",
    "    test_run()"
   ]
  },
  {
   "cell_type": "code",
   "execution_count": 11,
   "metadata": {},
   "outputs": [
    {
     "name": "stdout",
     "output_type": "stream",
     "text": [
      "Array:\n",
      "[[2 0 5 1]\n",
      " [1 3 4 4]\n",
      " [9 2 9 1]\n",
      " [9 3 7 5]\n",
      " [4 7 0 3]]\n",
      "Sum of all elements:\n",
      "79\n",
      "Sum of each column:\n",
      "[25 15 25 14]\n"
     ]
    }
   ],
   "source": [
    "\"\"\"Ops on attributes\"\"\"\n",
    "import numpy as np\n",
    "\n",
    "def test_run():\n",
    "    np.random.seed(693)\n",
    "    a = np.random.randint(0, 10, size=(5,4))\n",
    "    print \"Array:\\n\", a\n",
    "    \n",
    "    #sum all elemts\n",
    "    print \"Sum of all elements:\\n\", a.sum()\n",
    "    \n",
    "    #sum each column\n",
    "    print \"Sum of each column:\\n\", a.sum(axis=0)\n",
    "    \n",
    "    \n",
    "if __name__ == \"__main__\":\n",
    "    test_run()"
   ]
  },
  {
   "cell_type": "code",
   "execution_count": 29,
   "metadata": {
    "collapsed": true
   },
   "outputs": [
    {
     "name": "stdout",
     "output_type": "stream",
     "text": [
      "Array:\n",
      "[[2 0 5 1]\n",
      " [1 3 4 4]\n",
      " [9 2 9 1]\n",
      " [9 3 7 5]\n",
      " [4 7 0 3]]\n",
      "Min of each col:\n",
      "[1 0 0 1]\n",
      "Max of each row:\n",
      "[5 4 9 9 7]\n",
      "Mean of all elements:\n",
      "3.95\n"
     ]
    }
   ],
   "source": [
    "\"\"\"Ops on attributes\"\"\"\n",
    "import numpy as np\n",
    "\n",
    "def test_run():\n",
    "    np.random.seed(693)\n",
    "    a = np.random.randint(0, 10, size=(5,4))\n",
    "    print \"Array:\\n\", a\n",
    "    \n",
    "    #stastics: min, max, mean(across rows, cols, and overall)\n",
    "    print \"Min of each col:\\n\", a.min(axis=0)\n",
    "    print \"Max of each row:\\n\", a.max(axis=1)\n",
    "    print \"Mean of all elements:\\n\", a.mean()\n",
    "    \n",
    "    \n",
    "    \n",
    "if __name__ == \"__main__\":\n",
    "    test_run()"
   ]
  },
  {
   "cell_type": "code",
   "execution_count": 31,
   "metadata": {},
   "outputs": [
    {
     "name": "stdout",
     "output_type": "stream",
     "text": [
      " Array:\n",
      "[ 9  6  2  3 12 14  7 10]\n",
      "Max value: 14\n",
      "Index of max.: 5\n"
     ]
    }
   ],
   "source": [
    "\"\"\"Locate max value\"\"\"\n",
    "import numpy as np\n",
    "\n",
    "def get_max_index(a):\n",
    "    \"\"\"Return the index of the maximum value in given 1D array\"\"\"\n",
    "    return a.argmax()\n",
    "    \n",
    "\n",
    "def test_run():\n",
    "    a = np.array([9,6,2,3,12,14,7,10], dtype=np.int32)\n",
    "    print \"Array:\\n\", a\n",
    "    \n",
    "    #find max and index in the array\n",
    "    print \"Max value:\", a.max()\n",
    "    print \"Index of max.:\", get_max_index(a)\n",
    "    \n",
    "    \n",
    "    \n",
    "if __name__ == \"__main__\":\n",
    "    test_run()"
   ]
  },
  {
   "cell_type": "code",
   "execution_count": 12,
   "metadata": {},
   "outputs": [
    {
     "name": "stdout",
     "output_type": "stream",
     "text": [
      "ML4T\n",
      "The time taken by print statement is  0.000231027603149  seconds\n"
     ]
    }
   ],
   "source": [
    "\"\"\"using time fun\"\"\"\n",
    "\n",
    "import time\n",
    "\n",
    "def test_run():\n",
    "    t1 = time.time()\n",
    "    print \"ML4T\"\n",
    "    t2 = time.time()\n",
    "    print \"The time taken by print statement is \",t2 - t1,\" seconds\"\n",
    "\n",
    "\n",
    "if __name__ == \"__main__\":\n",
    "    test_run()"
   ]
  },
  {
   "cell_type": "code",
   "execution_count": 37,
   "metadata": {},
   "outputs": [
    {
     "name": "stdout",
     "output_type": "stream",
     "text": [
      "Array: \n",
      "[[ 0.29624151  0.52007049  0.19683409  0.0186893 ]\n",
      " [ 0.86612927  0.39325211  0.0971765   0.91781428]\n",
      " [ 0.45766729  0.89664398  0.32742972  0.80625555]\n",
      " [ 0.47246616  0.2393383   0.74850448  0.2744893 ]\n",
      " [ 0.38065952  0.2396454   0.49605158  0.47252039]]\n",
      "[ 0.52007049  0.19683409]\n",
      "[[ 0.29624151  0.19683409]\n",
      " [ 0.86612927  0.0971765 ]\n",
      " [ 0.45766729  0.32742972]\n",
      " [ 0.47246616  0.74850448]\n",
      " [ 0.38065952  0.49605158]]\n"
     ]
    }
   ],
   "source": [
    "\"\"\"accessing array elemts\"\"\"\n",
    "\n",
    "def test_run():\n",
    "    a = np.random.rand(5,4)\n",
    "    print \"Array: \\n\", a\n",
    "    \n",
    "    # accessing element at position (3,2)\n",
    "    element = a[3,2]\n",
    "     \n",
    "    #elements in defined range\n",
    "    print a[0, 1:3]  #column slicing\n",
    "    \n",
    "    print a[:, 0:3:2]\n",
    "    \n",
    "    \n",
    "    \n",
    "if __name__ == \"__main__\":\n",
    "    test_run()"
   ]
  },
  {
   "cell_type": "code",
   "execution_count": 38,
   "metadata": {},
   "outputs": [
    {
     "name": "stdout",
     "output_type": "stream",
     "text": [
      "Array: \n",
      "[[ 0.55954643  0.69960098  0.77345467  0.63399027]\n",
      " [ 0.66652527  0.1283678   0.5497237   0.87219761]\n",
      " [ 0.21252231  0.96637449  0.39893195  0.66724993]\n",
      " [ 0.76185981  0.50517548  0.31735514  0.05505354]\n",
      " [ 0.05316876  0.63555341  0.5410938   0.85408341]]\n",
      "\n",
      " Modified (replaced one element):\n",
      "[[ 1.          0.69960098  0.77345467  0.63399027]\n",
      " [ 0.66652527  0.1283678   0.5497237   0.87219761]\n",
      " [ 0.21252231  0.96637449  0.39893195  0.66724993]\n",
      " [ 0.76185981  0.50517548  0.31735514  0.05505354]\n",
      " [ 0.05316876  0.63555341  0.5410938   0.85408341]]\n"
     ]
    }
   ],
   "source": [
    "\"\"\"accessing array elemts\"\"\"\n",
    "\n",
    "def test_run():\n",
    "    a = np.random.rand(5,4)\n",
    "    print \"Array: \\n\", a\n",
    "    \n",
    "    # accessing element at position (3,2)\n",
    "    a[0,0] = 1\n",
    "    print \"\\n Modified (replaced one element):\\n\",a\n",
    "      \n",
    "    \n",
    "    \n",
    "    \n",
    "if __name__ == \"__main__\":\n",
    "    test_run()"
   ]
  },
  {
   "cell_type": "code",
   "execution_count": 39,
   "metadata": {},
   "outputs": [
    {
     "name": "stdout",
     "output_type": "stream",
     "text": [
      "Array: \n",
      "[[ 0.71819427  0.23147459  0.50620594  0.59499413]\n",
      " [ 0.34370863  0.42590808  0.236121    0.88377603]\n",
      " [ 0.09617875  0.53969969  0.99614293  0.80829174]\n",
      " [ 0.23905794  0.60767761  0.96859421  0.41604617]\n",
      " [ 0.83385194  0.07423688  0.48683308  0.2981861 ]]\n",
      "\n",
      " Modified (replaced one element):\n",
      "[[ 0.71819427  0.23147459  0.50620594  1.        ]\n",
      " [ 0.34370863  0.42590808  0.236121    2.        ]\n",
      " [ 0.09617875  0.53969969  0.99614293  3.        ]\n",
      " [ 0.23905794  0.60767761  0.96859421  4.        ]\n",
      " [ 0.83385194  0.07423688  0.48683308  5.        ]]\n"
     ]
    }
   ],
   "source": [
    "\"\"\"accessing array elemts\"\"\"\n",
    "\n",
    "def test_run():\n",
    "    a = np.random.rand(5,4)\n",
    "    print \"Array: \\n\", a\n",
    "    \n",
    "    # accessing element at position (3,2)\n",
    "    a[:,3] = [1,2,3,4,5]\n",
    "    print \"\\n Modified (replaced one element):\\n\",a\n",
    "      \n",
    "    \n",
    "    \n",
    "    \n",
    "if __name__ == \"__main__\":\n",
    "    test_run()"
   ]
  },
  {
   "cell_type": "code",
   "execution_count": 43,
   "metadata": {},
   "outputs": [
    {
     "name": "stdout",
     "output_type": "stream",
     "text": [
      "[ 0.02539469  0.94615825  0.90069396  0.79418693  0.14458579]\n",
      "[ 0.94615825  0.90069396  0.79418693]\n"
     ]
    }
   ],
   "source": [
    "\"\"\"accessing array elemts\"\"\"\n",
    "\n",
    "def test_run():\n",
    "    a = np.random.rand(5)\n",
    "    print a\n",
    "    # accessing element at \n",
    "    indices = np.array([1,2,3])\n",
    "    print a[indices]\n",
    "    \n",
    "if __name__ == \"__main__\":\n",
    "    test_run()"
   ]
  },
  {
   "cell_type": "code",
   "execution_count": 46,
   "metadata": {},
   "outputs": [
    {
     "name": "stdout",
     "output_type": "stream",
     "text": [
      "[[20 25 10 23 26 23 10  5  0]\n",
      " [ 0  2 50 20  0  1 28  5  0]]\n",
      "13.7777777778\n",
      "[10 10  5  0  0  2  0  1  5  0]\n"
     ]
    }
   ],
   "source": [
    "\"\"\"accessing array elemts\"\"\"\n",
    "\n",
    "def test_run():\n",
    "    a = np.array([(20,25,10,23,26,23,10,5,0),(0,2,50,20,0,1,28,5,0)])\n",
    "    print a\n",
    "    \n",
    "    mean = a.mean()\n",
    "    print mean\n",
    "    \n",
    "    #masking\n",
    "    print a[a<mean]\n",
    "    \n",
    "if __name__ == \"__main__\":\n",
    "    test_run()"
   ]
  },
  {
   "cell_type": "code",
   "execution_count": 47,
   "metadata": {},
   "outputs": [
    {
     "name": "stdout",
     "output_type": "stream",
     "text": [
      "Original array a:\n",
      "[[ 1  2  3  4  5]\n",
      " [10 20 30 40 50]]\n",
      "\n",
      "Multiply a by 2:\n",
      "[[  2   4   6   8  10]\n",
      " [ 20  40  60  80 100]]\n"
     ]
    }
   ],
   "source": [
    "\"\"\"accessing array elemts\"\"\"\n",
    "\n",
    "def test_run():\n",
    "    a = np.array([(1,2,3,4,5),(10,20,30,40,50)])\n",
    "    print \"Original array a:\\n\", a\n",
    "    \n",
    "    # multiply a by 2\n",
    "    print \"\\nMultiply a by 2:\\n\", 2 * a\n",
    "    \n",
    "if __name__ == \"__main__\":\n",
    "    test_run()"
   ]
  },
  {
   "cell_type": "code",
   "execution_count": null,
   "metadata": {
    "collapsed": true
   },
   "outputs": [],
   "source": []
  }
 ],
 "metadata": {
  "kernelspec": {
   "display_name": "Python 2",
   "language": "python",
   "name": "python2"
  },
  "language_info": {
   "codemirror_mode": {
    "name": "ipython",
    "version": 2
   },
   "file_extension": ".py",
   "mimetype": "text/x-python",
   "name": "python",
   "nbconvert_exporter": "python",
   "pygments_lexer": "ipython2",
   "version": "2.7.14"
  }
 },
 "nbformat": 4,
 "nbformat_minor": 1
}
