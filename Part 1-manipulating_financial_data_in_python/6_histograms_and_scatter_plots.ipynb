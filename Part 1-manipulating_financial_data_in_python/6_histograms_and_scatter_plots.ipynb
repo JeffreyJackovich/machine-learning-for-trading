{
 "cells": [
  {
   "cell_type": "markdown",
   "metadata": {},
   "source": [
    "## Histogram of daily returns"
   ]
  },
  {
   "cell_type": "markdown",
   "metadata": {},
   "source": [
    "### Kurtosis: \n",
    "tells us about \"tails\" i.e. provides info. compared to normal distribution (\"gaussian\")\n",
    "\n",
    "Positive = \"fat tails\"\n",
    "Negative = \"skinny tails\""
   ]
  },
  {
   "cell_type": "code",
   "execution_count": 1,
   "metadata": {},
   "outputs": [
    {
     "name": "stdout",
     "output_type": "stream",
     "text": [
      "mean= 0.000635578332225\n",
      "std= 0.0133704908994\n"
     ]
    },
    {
     "name": "stderr",
     "output_type": "stream",
     "text": [
      "/home/jeff/anaconda2/lib/python2.7/site-packages/ipykernel_launcher.py:41: DeprecationWarning: \n",
      ".ix is deprecated. Please use\n",
      ".loc for label based indexing or\n",
      ".iloc for positional indexing\n",
      "\n",
      "See the documentation here:\n",
      "http://pandas.pydata.org/pandas-docs/stable/indexing.html#ix-indexer-is-deprecated\n"
     ]
    },
    {
     "data": {
      "image/png": "[encoded data removed]",
      "text/plain": [
       "<matplotlib.figure.Figure at 0x7f13e095db10>"
      ]
     },
     "metadata": {},
     "output_type": "display_data"
    },
    {
     "name": "stdout",
     "output_type": "stream",
     "text": [
      "SPY    3.220278\n",
      "dtype: float64\n"
     ]
    }
   ],
   "source": [
    "\"\"\"Plot a histogram\"\"\"\n",
    "import os\n",
    "import pandas as pd\n",
    "import matplotlib.pyplot as plt\n",
    "\n",
    "\n",
    "\n",
    "#--------function to get path of the symbol---------------------\n",
    "def symbol_to_path(symbol, base_dir=\"data\"):\n",
    "    \"\"\"Return CSV file path given ticker symbol.\"\"\"\n",
    "    return os.path.join(base_dir, \"{}.csv\".format(str(symbol)))\n",
    "\n",
    "\n",
    "#------------------reads csv-----------------------------------\n",
    "def get_data(symbollist, dates):\n",
    "    df_final=pd.DataFrame(index=dates)\n",
    "    if \"SPY\" not in symbollist:\n",
    "        symbollist.insert(0,\"SPY\")\n",
    "    for symbol in symbollist:\n",
    "        file_path=symbol_to_path(symbol)\n",
    "        df_temp=pd.read_csv(file_path,parse_dates=True,index_col=\"Date\",usecols=[\"Date\", \"Adj Close\"])\n",
    "        df_temp=df_temp.rename(columns={'Adj Close':symbol})\n",
    "        df_final=df_final.join(df_temp)\n",
    "        if symbol == \"SPY\":\n",
    "            df_final=df_final.dropna(subset=['SPY'])\n",
    "    return df_final\n",
    "\n",
    "\n",
    "#------------------plot function------------------------------\n",
    "def plot(df_data):\n",
    "    ax=df_data.plot(title=\"Incomplete Data\",fontsize=2)\n",
    "    ax.set_xlabel(\"Date\")\n",
    "    ax.set_ylabel(\"Price\")\n",
    "    plt.show()\n",
    "    \n",
    "    \n",
    "def compute_daily_returns(df):\n",
    "    \"\"\"Compute and return the daily return values.\"\"\"\n",
    "    daily_returns = df.copy()\n",
    "    daily_returns[1:] = (df[1:] / df[:-1].values) -1\n",
    "    daily_returns.ix[0, :] = 0 # set daily returns for row 0 to 0\n",
    "    return daily_returns\n",
    "\n",
    "def test_run():\n",
    "    # read data\n",
    "    dates = pd.date_range('2009-01-01', '2012-12-31')\n",
    "    symbols = ['SPY']\n",
    "    df = get_data(symbols, dates)\n",
    "    \n",
    "    # Compute daily returns\n",
    "    daily_returns = compute_daily_returns(df)\n",
    "    \n",
    "    #plot a histogram\n",
    "    daily_returns.hist(bins=20)\n",
    "    \n",
    "    # get mean and standard deviation\n",
    "    mean = daily_returns['SPY'].mean()\n",
    "    print \"mean=\",mean\n",
    "    std= daily_returns['SPY'].std()\n",
    "    print \"std=\",std\n",
    "    \n",
    "    plt.axvline(mean,color='w',linestyle='dashed',linewidth=2)\n",
    "    plt.axvline(std,color='r',linestyle='dashed',linewidth=2)\n",
    "    plt.axvline(-std,color='r',linestyle='dashed',linewidth=2)\n",
    "    \n",
    "    plt.show()\n",
    "    \n",
    "    # compute kurtosis\n",
    "    print daily_returns.kurtosis()\n",
    "    \n",
    "if __name__ == \"__main__\":\n",
    "    test_run()"
   ]
  },
  {
   "cell_type": "code",
   "execution_count": null,
   "metadata": {
    "collapsed": true
   },
   "outputs": [],
   "source": []
  },
  {
   "cell_type": "markdown",
   "metadata": {},
   "source": [
    "## Compare two histograms"
   ]
  },
  {
   "cell_type": "code",
   "execution_count": 2,
   "metadata": {},
   "outputs": [
    {
     "name": "stderr",
     "output_type": "stream",
     "text": [
      "/home/jeff/anaconda2/lib/python2.7/site-packages/ipykernel_launcher.py:43: DeprecationWarning: \n",
      ".ix is deprecated. Please use\n",
      ".loc for label based indexing or\n",
      ".iloc for positional indexing\n",
      "\n",
      "See the documentation here:\n",
      "http://pandas.pydata.org/pandas-docs/stable/indexing.html#ix-indexer-is-deprecated\n"
     ]
    },
    {
     "data": {
      "image/png": "[encoded data removed]",
      "text/plain": [
       "<matplotlib.figure.Figure at 0x7f14044b9090>"
      ]
     },
     "metadata": {},
     "output_type": "display_data"
    }
   ],
   "source": [
    "\"\"\"Plot two histograms\"\"\"\n",
    "import os\n",
    "import pandas as pd\n",
    "import matplotlib.pyplot as plt\n",
    "\n",
    "\n",
    "\n",
    "#--------function to get path of the symbol---------------------\n",
    "def symbol_to_path(symbol, base_dir=\"data\"):\n",
    "    \"\"\"Return CSV file path given ticker symbol.\"\"\"\n",
    "    return os.path.join(base_dir, \"{}.csv\".format(str(symbol)))\n",
    "\n",
    "\n",
    "#------------------reads csv-----------------------------------\n",
    "def get_data(symbollist, dates):\n",
    "    df_final=pd.DataFrame(index=dates)\n",
    "    if \"SPY\" not in symbollist:\n",
    "        symbollist.insert(0,\"SPY\")\n",
    "    for symbol in symbollist:\n",
    "        file_path=symbol_to_path(symbol)\n",
    "        df_temp=pd.read_csv(file_path,parse_dates=True,\n",
    "                            index_col=\"Date\",\n",
    "                            usecols=[\"Date\", \"Adj Close\"])\n",
    "        df_temp=df_temp.rename(columns={'Adj Close':symbol})\n",
    "        df_final=df_final.join(df_temp)\n",
    "        if symbol == \"SPY\":\n",
    "            df_final=df_final.dropna(subset=['SPY'])\n",
    "    return df_final\n",
    "\n",
    "\n",
    "#------------------plot function------------------------------\n",
    "def plot_data(df_data):\n",
    "    ax=df_data.plot(fontsize=2)\n",
    "    ax.set_xlabel(\"Date\")\n",
    "    ax.set_ylabel(\"Price\")\n",
    "    plt.show()\n",
    "    \n",
    "    \n",
    "def compute_daily_returns(df):\n",
    "    \"\"\"Compute and return the daily return values.\"\"\"\n",
    "    daily_returns = df.copy()\n",
    "    daily_returns[1:] = (df[1:] / df[:-1].values) -1\n",
    "    daily_returns.ix[0, :] = 0 # set daily returns for row 0 to 0\n",
    "    return daily_returns\n",
    "\n",
    "def test_run():\n",
    "    # read data\n",
    "    dates = pd.date_range('2009-01-01', '2012-12-31')\n",
    "    symbols = ['SPY', 'XOM']\n",
    "    df = get_data(symbols, dates)\n",
    "    \n",
    "    # Compute daily returns\n",
    "    daily_returns = compute_daily_returns(df)\n",
    "    \n",
    "    # compute and plot both histograms on the same chart\n",
    "    daily_returns['SPY'].hist(bins=20, label=\"SPY\")\n",
    "    daily_returns['XOM'].hist(bins=20, label=\"XOM\")\n",
    "    plt.legend(loc='upper right') \n",
    "    plt.show()\n",
    "    \n",
    "if __name__ == \"__main__\":\n",
    "    test_run()"
   ]
  },
  {
   "cell_type": "code",
   "execution_count": null,
   "metadata": {
    "collapsed": true
   },
   "outputs": [],
   "source": []
  },
  {
   "cell_type": "markdown",
   "metadata": {},
   "source": [
    "# Scatterplots   and fitting a line with Linear Regression"
   ]
  },
  {
   "cell_type": "markdown",
   "metadata": {},
   "source": [
    "### \"Slope\" = Beta  \n",
    "####  How reactive the stock is to the market i.e. Higher number equates to stock increasing\n",
    "\n",
    "### \"Alpha\" = positive - returns more than overall market & negative - returns less than overall market"
   ]
  },
  {
   "cell_type": "markdown",
   "metadata": {},
   "source": [
    "## Mistake to avoid:  Slope != Correlation\n",
    "### Correlation = how tightly data fits the line                 "
   ]
  },
  {
   "cell_type": "code",
   "execution_count": 3,
   "metadata": {},
   "outputs": [
    {
     "name": "stderr",
     "output_type": "stream",
     "text": [
      "/home/jeff/anaconda2/lib/python2.7/site-packages/ipykernel_launcher.py:42: DeprecationWarning: \n",
      ".ix is deprecated. Please use\n",
      ".loc for label based indexing or\n",
      ".iloc for positional indexing\n",
      "\n",
      "See the documentation here:\n",
      "http://pandas.pydata.org/pandas-docs/stable/indexing.html#ix-indexer-is-deprecated\n"
     ]
    },
    {
     "name": "stdout",
     "output_type": "stream",
     "text": [
      "beta_XOM=  0.850746223673\n",
      "alpha_XOM=  -0.00024686727668\n"
     ]
    },
    {
     "data": {
      "image/png": "[encoded data removed]",
      "text/plain": [
       "<matplotlib.figure.Figure at 0x7f13d88400d0>"
      ]
     },
     "metadata": {},
     "output_type": "display_data"
    },
    {
     "name": "stdout",
     "output_type": "stream",
     "text": [
      "beta_GLD=  0.0597611348322\n",
      "alpha_GLD=  0.00074788111616\n"
     ]
    },
    {
     "data": {
      "image/png": "[encoded data removed]",
      "text/plain": [
       "<matplotlib.figure.Figure at 0x7f13d8623f10>"
      ]
     },
     "metadata": {},
     "output_type": "display_data"
    },
    {
     "name": "stdout",
     "output_type": "stream",
     "text": [
      "          SPY       XOM       GLD\n",
      "SPY  1.000000  0.820241  0.067324\n",
      "XOM  0.820241  1.000000  0.069687\n",
      "GLD  0.067324  0.069687  1.000000\n"
     ]
    }
   ],
   "source": [
    "\"\"\"Scatterplots\"\"\"\n",
    "import os\n",
    "import pandas as pd\n",
    "import matplotlib.pyplot as plt\n",
    "import numpy as np\n",
    "\n",
    " \n",
    "def symbol_to_path(symbol, base_dir=\"data\"):\n",
    "    \"\"\"Return CSV file path given ticker symbol.\"\"\"\n",
    "    return os.path.join(base_dir, \"{}.csv\".format(str(symbol)))\n",
    "\n",
    "\n",
    "#------------------reads csv-----------------------------------\n",
    "def get_data(symbollist, dates):\n",
    "    df_final=pd.DataFrame(index=dates)\n",
    "    if \"SPY\" not in symbollist:\n",
    "        symbollist.insert(0,\"SPY\")\n",
    "    for symbol in symbollist:\n",
    "        file_path=symbol_to_path(symbol)\n",
    "        df_temp=pd.read_csv(file_path,parse_dates=True,\n",
    "                            index_col=\"Date\",\n",
    "                            usecols=[\"Date\", \"Adj Close\"])\n",
    "        df_temp=df_temp.rename(columns={'Adj Close':symbol})\n",
    "        df_final=df_final.join(df_temp)\n",
    "        if symbol == \"SPY\":\n",
    "            df_final=df_final.dropna(subset=['SPY'])\n",
    "    return df_final\n",
    "\n",
    "\n",
    "#------------------plot function------------------------------\n",
    "def plot_data(df_data):\n",
    "    ax=df_data.plot(fontsize=2)\n",
    "    ax.set_xlabel(\"Date\")\n",
    "    ax.set_ylabel(\"Price\")\n",
    "    plt.show()\n",
    "    \n",
    "    \n",
    "def compute_daily_returns(df):\n",
    "    \"\"\"Compute and return the daily return values.\"\"\"\n",
    "    daily_returns = df.copy()\n",
    "    daily_returns[1:] = (df[1:] / df[:-1].values) -1\n",
    "    daily_returns.ix[0, :] = 0 # set daily returns for row 0 to 0\n",
    "    return daily_returns\n",
    "\n",
    "def test_run():\n",
    "    # read data\n",
    "    dates = pd.date_range('2009-01-01', '2012-12-31')\n",
    "    symbols = ['SPY', 'XOM', 'GLD']\n",
    "    df = get_data(symbols, dates)\n",
    "     \n",
    "    # Compute daily returns\n",
    "    daily_returns = compute_daily_returns(df)\n",
    "    \n",
    "    #--------------Scatterplot SPY vs XOM--------------------\n",
    "    daily_returns.plot(kind='scatter', x='SPY',y='XOM')\n",
    "    beta_XOM,alpha_XOM = np.polyfit(daily_returns['SPY'],\n",
    "                                    daily_returns['XOM'],\n",
    "                                   1)\n",
    "    print \"beta_XOM= \",beta_XOM\n",
    "    print \"alpha_XOM= \",alpha_XOM\n",
    "    # fitting a line with, \"y=mx+b\"\n",
    "    plt.plot(daily_returns['SPY'], \n",
    "             beta_XOM*daily_returns['SPY'] + alpha_XOM, \n",
    "             '-',\n",
    "            color='r')\n",
    "    plt.show()\n",
    "    \n",
    "    \n",
    "    #-------------Scatterplot SPY vs GLD------------------\n",
    "    daily_returns.plot(kind='scatter', x='SPY',y='GLD')\n",
    "    beta_GLD,alpha_GLD = np.polyfit(daily_returns['SPY'],\n",
    "                                    daily_returns['GLD'],\n",
    "                                   1)\n",
    "    print \"beta_GLD= \",beta_GLD\n",
    "    print \"alpha_GLD= \",alpha_GLD\n",
    "    # fitting a line with, \"y=mx+b\"\n",
    "    plt.plot(daily_returns['SPY'], \n",
    "             beta_GLD*daily_returns['SPY'] + alpha_GLD, \n",
    "             '-',\n",
    "            color='r')\n",
    "    plt.show()\n",
    "    \n",
    "    #-----------Calculate correlation coefficient----------------\n",
    "    # method used = 'pearson'\n",
    "    print daily_returns.corr(method='pearson')\n",
    "    \n",
    "    \n",
    "    \n",
    "    #plot_data(daily_returns, title=\"Daily returns\", \n",
    "    #         ylabel=\"Daily returns\")\n",
    "    \n",
    "    \n",
    "    \n",
    "    \n",
    "if __name__ == \"__main__\":\n",
    "    test_run()\n"
   ]
  },
  {
   "cell_type": "markdown",
   "metadata": {},
   "source": [
    "## Results:\n",
    "### beta (*how stock moved with respect to SPY):\n",
    "    - XOM > GLD  ; thus, XOM was more reactive to the market compared than GLD\n",
    "\n",
    "### alpha (*how well it performed with respect to SPY):\n",
    "    -  XOM < GLD ; thus, GLD performed better than XOM \n",
    "\n",
    "### correlation (* how closely the dots fit the line (*less in GLD; more in XOM):\n",
    "    - SPY to XOM are MORE correlated THAN SPY to GLD\n",
    "   "
   ]
  },
  {
   "cell_type": "code",
   "execution_count": null,
   "metadata": {
    "collapsed": true
   },
   "outputs": [],
   "source": []
  }
 ],
 "metadata": {
  "kernelspec": {
   "display_name": "Python 2",
   "language": "python",
   "name": "python2"
  },
  "language_info": {
   "codemirror_mode": {
    "name": "ipython",
    "version": 2
   },
   "file_extension": ".py",
   "mimetype": "text/x-python",
   "name": "python",
   "nbconvert_exporter": "python",
   "pygments_lexer": "ipython2",
   "version": "2.7.14"
  }
 },
 "nbformat": 4,
 "nbformat_minor": 1
}
